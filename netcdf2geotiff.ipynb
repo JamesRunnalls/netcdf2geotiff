{
 "cells": [
  {
   "cell_type": "code",
   "execution_count": 1,
   "metadata": {},
   "outputs": [],
   "source": [
    "#!/usr/bin/env python\n",
    "from osgeo import gdal\n",
    "from osgeo import osr\n",
    "osr.UseExceptions()\n",
    "import numpy as np\n",
    "import os, sys\n",
    "from netCDF4 import Dataset"
   ]
  },
  {
   "cell_type": "code",
   "execution_count": 2,
   "metadata": {},
   "outputs": [],
   "source": [
    "import os\n",
    "os.environ['GDAL_DATA'] = '/usr/share/gdal'\n",
    "os.environ['PROJ_LIB'] = '/usr/share/proj'"
   ]
  },
  {
   "cell_type": "code",
   "execution_count": 44,
   "metadata": {},
   "outputs": [],
   "source": [
    "def rgb_geotiff(file, outfile, red, green, blue, lat, lon):\n",
    "    with Dataset(file, \"r\", format=\"NETCDF4\") as nc:\n",
    "        red = np.array(nc.variables[red][:])\n",
    "        green = np.array(nc.variables[green][:])\n",
    "        blue = np.array(nc.variables[blue][:])\n",
    "        lat = np.array(nc.variables[lat][:])\n",
    "        lon = np.array(nc.variables[lon][:])\n",
    "        image_size = red.shape\n",
    "\n",
    "    r_pixels = np.around((( red - np.amin(red) ) / ( np.amax(red) - np.amin(red) )) * 255)\n",
    "    g_pixels = np.around((( green - np.amin(green) ) / ( np.amax(green)  - np.amin(green) )) * 255)\n",
    "    b_pixels = np.around((( blue - np.amin(blue) ) / ( np.amax(blue)  - np.amin(blue) )) * 255)\n",
    "\n",
    "    # set geotransform\n",
    "    nx = image_size[0]\n",
    "    ny = image_size[1]\n",
    "    xmin, ymin, xmax, ymax = [min(lon), min(lat), max(lon), max(lat)]\n",
    "    xres = (xmax - xmin) / float(ny)\n",
    "    yres = (ymax - ymin) / float(nx)\n",
    "    geotransform = (xmin, xres, 0, ymax, 0, -yres)\n",
    "\n",
    "    # create the 3-band raster file\n",
    "    dst_ds = gdal.GetDriverByName('GTiff').Create(outfile, ny, nx, 3, gdal.GDT_Byte)\n",
    "\n",
    "    dst_ds.SetGeoTransform(geotransform)    # specify coords\n",
    "    srs = osr.SpatialReference()            # establish encoding\n",
    "    srs.ImportFromEPSG(4326)                # WGS84 lat/long\n",
    "    dst_ds.SetProjection(srs.ExportToWkt()) # export coords to file\n",
    "    dst_ds.GetRasterBand(1).WriteArray(r_pixels)   # write r-band to the raster\n",
    "    dst_ds.GetRasterBand(2).WriteArray(g_pixels)   # write g-band to the raster\n",
    "    dst_ds.GetRasterBand(3).WriteArray(b_pixels)   # write b-band to the raster\n",
    "    dst_ds.FlushCache()                     # write to disk\n",
    "    dst_ds = None"
   ]
  },
  {
   "cell_type": "code",
   "execution_count": 48,
   "metadata": {},
   "outputs": [],
   "source": [
    "def singleband_geotiff(file, outfile, band, lat, lon):\n",
    "    with Dataset(file, \"r\", format=\"NETCDF4\") as nc:\n",
    "        band = np.array(nc.variables[band][:])\n",
    "        lat = np.array(nc.variables[lat][:])\n",
    "        lon = np.array(nc.variables[lon][:])\n",
    "        image_size = band.shape\n",
    "\n",
    "    b_pixels = np.around((( band - np.amin(band) ) / ( np.amax(band) - np.amin(band) )) * 255)\n",
    "    a_pixels = band\n",
    "\n",
    "    # set geotransform\n",
    "    nx = image_size[0]\n",
    "    ny = image_size[1]\n",
    "    xmin, ymin, xmax, ymax = [np.amin(lon), np.amin(lat), np.amax(lon), np.amax(lat)]\n",
    "    xres = (xmax - xmin) / float(ny)\n",
    "    yres = (ymax - ymin) / float(nx)\n",
    "    geotransform = (xmin, xres, 0, ymax, 0, -yres)\n",
    "\n",
    "    # create the 3-band raster file\n",
    "    dst_ds = gdal.GetDriverByName('GTiff').Create(outfile, ny, nx, 4, gdal.GDT_Byte)\n",
    "    \n",
    "    dst_ds.SetGeoTransform(geotransform)\n",
    "    srs = osr.SpatialReference()\n",
    "    srs.ImportFromEPSG(4326)\n",
    "    dst_ds.SetProjection(srs.ExportToWkt())\n",
    "    dst_ds.GetRasterBand(1).WriteArray(b_pixels)\n",
    "    dst_ds.GetRasterBand(2).WriteArray(b_pixels)\n",
    "    dst_ds.GetRasterBand(3).WriteArray(b_pixels)\n",
    "    dst_ds.GetRasterBand(4).WriteArray(a_pixels)\n",
    "    dst_ds.FlushCache()\n",
    "    dst_ds = None"
   ]
  },
  {
   "cell_type": "code",
   "execution_count": 49,
   "metadata": {},
   "outputs": [],
   "source": [
    "rgb_geotiff(\"test.nc\", \"test.tif\", \"RED\", \"GREEN\", \"BLUE\", \"lat\", \"lon\")"
   ]
  },
  {
   "cell_type": "code",
   "execution_count": 50,
   "metadata": {},
   "outputs": [],
   "source": [
    "singleband_geotiff(\"test.nc\", \"testgs.tif\", \"IDEPIX_SNOW_ICE\", \"lat\", \"lon\")"
   ]
  },
  {
   "cell_type": "code",
   "execution_count": null,
   "metadata": {},
   "outputs": [],
   "source": []
  },
  {
   "cell_type": "code",
   "execution_count": 53,
   "metadata": {},
   "outputs": [
    {
     "name": "stdout",
     "output_type": "stream",
     "text": [
      "['/home/jamesrunnalls/snowlines', '/home/jamesrunnalls/.pyenv/versions/3.7.2/lib/python37.zip', '/home/jamesrunnalls/.pyenv/versions/3.7.2/lib/python3.7', '/home/jamesrunnalls/.pyenv/versions/3.7.2/lib/python3.7/lib-dynload', '', '/home/jamesrunnalls/.local/lib/python3.7/site-packages', '/home/jamesrunnalls/.pyenv/versions/3.7.2/lib/python3.7/site-packages', '/home/jamesrunnalls/git/snowline', '/home/jamesrunnalls/.pyenv/versions/3.7.2/lib/python3.7/site-packages/IPython/extensions', '/home/jamesrunnalls/.ipython']\n"
     ]
    }
   ],
   "source": [
    "import sys\n",
    "print(sys.path)"
   ]
  },
  {
   "cell_type": "code",
   "execution_count": 52,
   "metadata": {},
   "outputs": [
    {
     "data": {
      "text/plain": [
       "[]"
      ]
     },
     "execution_count": 52,
     "metadata": {},
     "output_type": "execute_result"
    }
   ],
   "source": [
    "user_paths"
   ]
  },
  {
   "cell_type": "code",
   "execution_count": null,
   "metadata": {},
   "outputs": [],
   "source": []
  }
 ],
 "metadata": {
  "kernelspec": {
   "display_name": "snowline",
   "language": "python",
   "name": "snowline"
  },
  "language_info": {
   "codemirror_mode": {
    "name": "ipython",
    "version": 3
   },
   "file_extension": ".py",
   "mimetype": "text/x-python",
   "name": "python",
   "nbconvert_exporter": "python",
   "pygments_lexer": "ipython3",
   "version": "3.7.2"
  }
 },
 "nbformat": 4,
 "nbformat_minor": 2
}
